{
  "nbformat": 4,
  "nbformat_minor": 0,
  "metadata": {
    "colab": {
      "name": "Copia de Examen Programación - A.ipynb",
      "provenance": [],
      "collapsed_sections": [],
      "include_colab_link": true
    },
    "kernelspec": {
      "name": "python3",
      "display_name": "Python 3"
    }
  },
  "cells": [
    {
      "cell_type": "markdown",
      "metadata": {
        "id": "view-in-github",
        "colab_type": "text"
      },
      "source": [
        "<a href=\"https://colab.research.google.com/github/yessvp/PROGRA_II/blob/master/Copia_de_Examen_Programaci%C3%B3n_A.ipynb\" target=\"_parent\"><img src=\"https://colab.research.google.com/assets/colab-badge.svg\" alt=\"Open In Colab\"/></a>"
      ]
    },
    {
      "cell_type": "markdown",
      "metadata": {
        "id": "y7Oq4Se1jAkk",
        "colab_type": "text"
      },
      "source": [
        "# EXAMEN PARCIAL DE PROGRAMACIÓN - A"
      ]
    },
    {
      "cell_type": "markdown",
      "metadata": {
        "id": "d6Dtx5cijHuN",
        "colab_type": "text"
      },
      "source": [
        "Nombres y apellidos: \n",
        "\n",
        "Código: "
      ]
    },
    {
      "cell_type": "markdown",
      "metadata": {
        "id": "V2Gv10h-SbX4",
        "colab_type": "text"
      },
      "source": [
        "***\n",
        "Instrucciones:\n",
        "- El examen es personal\n",
        "- Se puede usar internet\n",
        "- Una vez terminado, descargar en formato **.ipynb** su examen con su código de estudiante y subir a esta [carpeta compartida](https://drive.google.com/drive/u/0/folders/1eBFAtL33yaYqMgKdX1NbunjEAhRqoSGX) (ejemplo: 17160099.ipynb)\n",
        "***"
      ]
    },
    {
      "cell_type": "markdown",
      "metadata": {
        "id": "2NrjVzQIjRH2",
        "colab_type": "text"
      },
      "source": [
        "## Nivel 1 (1 pt c/u)"
      ]
    },
    {
      "cell_type": "markdown",
      "metadata": {
        "id": "qCk2aiwfj47k",
        "colab_type": "text"
      },
      "source": [
        "1. Cuáles son los lenguajes básicos para crear una página web."
      ]
    },
    {
      "cell_type": "markdown",
      "metadata": {
        "id": "BKf0tS6APDCH",
        "colab_type": "text"
      },
      "source": [
        "Lenguaje JavaScript\n",
        "Lenguaje PHP\n",
        "Lenguaje Python\n",
        "Lenguaje Ruby\n"
      ]
    },
    {
      "cell_type": "markdown",
      "metadata": {
        "id": "UVTdV9izj6bV",
        "colab_type": "text"
      },
      "source": [
        "2. Explicar cómo crear un repositorio virtual en Github y subir archivos a este."
      ]
    },
    {
      "cell_type": "markdown",
      "metadata": {
        "id": "TtoAf5SzkUrK",
        "colab_type": "text"
      },
      "source": [
        "3. Explicar las diferencias entre el modo apertura **lectura** y **escritura**."
      ]
    },
    {
      "cell_type": "markdown",
      "metadata": {
        "id": "KZXS9TnQPNgE",
        "colab_type": "text"
      },
      "source": [
        "La diferencia es que en modo lectura no s epuede modificar el documento, solo se mostrara el contenido de este. en el modo escritura se puede modificar el contenido y leer. "
      ]
    },
    {
      "cell_type": "markdown",
      "metadata": {
        "id": "s5KOFqH9k0JV",
        "colab_type": "text"
      },
      "source": [
        "4. ¿La siguiente expresión es válida? Explicar por qué.\n",
        "         x = \"hello!\"\n",
        "         x *= \"world\""
      ]
    },
    {
      "cell_type": "markdown",
      "metadata": {
        "id": "vAVumtUkcs4o",
        "colab_type": "text"
      },
      "source": [
        "la primera expresion es valida ya que se esta asignando el valor de caracter (string) colocando en comillas la expresion.\n"
      ]
    },
    {
      "cell_type": "markdown",
      "metadata": {
        "id": "QDTfPELzlu7a",
        "colab_type": "text"
      },
      "source": [
        "5. Mencionar 3 librerías para el lenguaje Python."
      ]
    },
    {
      "cell_type": "markdown",
      "metadata": {
        "id": "SxU2CpfSPe_r",
        "colab_type": "text"
      },
      "source": [
        "requests.\n",
        "numpy.\n",
        "pandas."
      ]
    },
    {
      "cell_type": "markdown",
      "metadata": {
        "id": "GF3My8OX-jiE",
        "colab_type": "text"
      },
      "source": [
        "6. Calcule el resto de la siguiente ecuación\n",
        "\n",
        "$$ \\frac {3^3 - \\sqrt{6^2 - 5^2}} {12} $$"
      ]
    },
    {
      "cell_type": "code",
      "metadata": {
        "id": "opNXFvS1Prlw",
        "colab_type": "code",
        "outputId": "95230af7-814a-48c0-cd6e-cb31a8e7b145",
        "colab": {
          "base_uri": "https://localhost:8080/",
          "height": 34
        }
      },
      "source": [
        "x=(3**3-((6**2-5**2)**0.5))/12\n",
        "round(x)"
      ],
      "execution_count": 0,
      "outputs": [
        {
          "output_type": "execute_result",
          "data": {
            "text/plain": [
              "2"
            ]
          },
          "metadata": {
            "tags": []
          },
          "execution_count": 6
        }
      ]
    },
    {
      "cell_type": "markdown",
      "metadata": {
        "id": "X7GmTqRAKErt",
        "colab_type": "text"
      },
      "source": [
        "7. Crear un diccionario con 3 llaves y que sus valores sean tuplas o listas. Finalmente guardalo como archivo **json**."
      ]
    },
    {
      "cell_type": "code",
      "metadata": {
        "id": "zpr16akDQfJh",
        "colab_type": "code",
        "outputId": "45d25a7d-1cd7-46c9-e464-e29eb5c29826",
        "colab": {
          "base_uri": "https://localhost:8080/",
          "height": 34
        }
      },
      "source": [
        "ciclo ={'1ciclo':[\"analisis1\",\"matebasica\"],'2ciclo': [\"analisis2\",\"Descriptiva\"],'3ciclo':[\"Topografia I\", \"Geomorfologia\"]}\n",
        "import json\n",
        "json._str=json.dumps(ciclo)\n",
        "print ('Datos en formato Json:', json._str)"
      ],
      "execution_count": 0,
      "outputs": [
        {
          "output_type": "stream",
          "text": [
            "Datos en formato Json: {\"1ciclo\": [\"analisis1\", \"matebasica\"], \"2ciclo\": [\"analisis2\", \"Descriptiva\"], \"3ciclo\": [\"Topografia I\", \"Geomorfologia\"]}\n"
          ],
          "name": "stdout"
        }
      ]
    },
    {
      "cell_type": "markdown",
      "metadata": {
        "id": "QSPXazJHmDn_",
        "colab_type": "text"
      },
      "source": [
        "## Nivel 2 (2 pt c/u)"
      ]
    },
    {
      "cell_type": "markdown",
      "metadata": {
        "id": "80fxdaFCq6Zy",
        "colab_type": "text"
      },
      "source": [
        "1. Escribir una función que elimine de una lista dada todos los elementos repetidos y devuelvalos elementos de la lista sin repeticiones."
      ]
    },
    {
      "cell_type": "code",
      "metadata": {
        "id": "C8YwOCGu2smL",
        "colab_type": "code",
        "outputId": "0dd4ac7b-9e9f-4406-e117-4534d4a51b8a",
        "colab": {
          "base_uri": "https://localhost:8080/",
          "height": 34
        }
      },
      "source": [
        "num = [1,1,2,2,3,4,5,3,2,1,6,8,8,4,9,2,6,3]\n",
        "a=0\n",
        "for i in num:\n",
        "  if num [a] == num [a+1]:\n",
        "     b=num [a+1]\n",
        "     num.remove (b) \n",
        "num"
      ],
      "execution_count": 13,
      "outputs": [
        {
          "output_type": "execute_result",
          "data": {
            "text/plain": [
              "[1, 2, 2, 3, 4, 5, 3, 2, 1, 6, 8, 8, 4, 9, 2, 6, 3]"
            ]
          },
          "metadata": {
            "tags": []
          },
          "execution_count": 13
        }
      ]
    },
    {
      "cell_type": "markdown",
      "metadata": {
        "id": "xlTKqgTLz2Eb",
        "colab_type": "text"
      },
      "source": [
        "2. Crear una función que muestre los n primeros números primos."
      ]
    },
    {
      "cell_type": "code",
      "metadata": {
        "id": "emzuM9P9ggQo",
        "colab_type": "code",
        "outputId": "0e78164d-869f-4140-d454-82eef736c1be",
        "colab": {
          "base_uri": "https://localhost:8080/",
          "height": 102
        }
      },
      "source": [
        "i=1\n",
        "x = int(input(\"Enter the number:\"))\n",
        "for k in range (1, (x+1), 1):\n",
        "    c=0\n",
        "    for j in range (1, (i+1), 1):\n",
        "        a = i%j\n",
        "        if (a==0):\n",
        "            c = c+1\n",
        "    if (c==2):\n",
        "          print (i)\n",
        "    else:\n",
        "          k = k-1\n",
        "    i=i+1"
      ],
      "execution_count": 0,
      "outputs": [
        {
          "output_type": "stream",
          "text": [
            "Enter the number:7\n",
            "2\n",
            "3\n",
            "5\n",
            "7\n"
          ],
          "name": "stdout"
        }
      ]
    },
    {
      "cell_type": "markdown",
      "metadata": {
        "id": "xUCYTvIt9V7L",
        "colab_type": "text"
      },
      "source": [
        "3. Realizar una función que pida el valor de los tres lados de un triángulo y demuestre su existencia."
      ]
    },
    {
      "cell_type": "code",
      "metadata": {
        "id": "ZLfRFE5TjYmT",
        "colab_type": "code",
        "outputId": "886030e5-b90a-4537-f1df-8620c24fd94d",
        "colab": {
          "base_uri": "https://localhost:8080/",
          "height": 85
        }
      },
      "source": [
        "def lados(a,b,c):\n",
        "  a = float(input(\"Ingrese el lado a: \"))\n",
        "  b = float(input(\"Ingrese el lado b: \"))\n",
        "  c = float(input(\"Ingrese el lado c: \"))\n",
        "  if a>b+c:\n",
        "    print(\"El triangulo SI existe\")\n",
        "  elif a<b-c:\n",
        "    print(\"El triangulo SI existe\")\n",
        "  else:\n",
        "    print(\"El triangulo NO existe\")\n",
        "lados(5,3,1)"
      ],
      "execution_count": 0,
      "outputs": [
        {
          "output_type": "stream",
          "text": [
            "Ingrese el lado a: 5\n",
            "Ingrese el lado b: 3\n",
            "Ingrese el lado c: 2\n",
            "El triangulo NO existe\n"
          ],
          "name": "stdout"
        }
      ]
    },
    {
      "cell_type": "code",
      "metadata": {
        "id": "Z8VbPljIgtPM",
        "colab_type": "code",
        "colab": {}
      },
      "source": [
        ""
      ],
      "execution_count": 0,
      "outputs": []
    },
    {
      "cell_type": "markdown",
      "metadata": {
        "id": "d8HeIR1J18Kw",
        "colab_type": "text"
      },
      "source": [
        "## Nivel 3 (3 pt c/u)"
      ]
    },
    {
      "cell_type": "markdown",
      "metadata": {
        "id": "_NLJHa9_088m",
        "colab_type": "text"
      },
      "source": [
        "1. Crear una función que invierta una frase e identifique si es palíndroma o no.\n",
        "\n",
        "    Ejemplo: \n",
        "\n",
        "    **\"Anita lava la tina\" --> \"anit al aval atinA\" (Es palíndroma)**\n",
        "\n",
        "    **\"Hola mundo\" --> \"odnum aloH\"                 (No es palíndroma)**"
      ]
    },
    {
      "cell_type": "code",
      "metadata": {
        "id": "CzhPHhdVPNLy",
        "colab_type": "code",
        "colab": {}
      },
      "source": [
        "nom=input(\"Introduzca una palabra: \")\n",
        "nom=\n",
        "palindromo = nom[::-1]\n",
        "if palindromo==nom:\n",
        "    print(\"Es un palindromo\")\n",
        "else:\n",
        "    print(\"No es un palindromo\")"
      ],
      "execution_count": 0,
      "outputs": []
    },
    {
      "cell_type": "markdown",
      "metadata": {
        "id": "aGu8vTil2Ri7",
        "colab_type": "text"
      },
      "source": [
        "2. Crear una función que cuente la cantidad de letras que se repiten en un texto y las devuelva en un diccionario.\n",
        "\n",
        "    Ejemplo:\n",
        "    \n",
        "    **\"bienvenido\"**\n",
        "    \n",
        "    **{\"b\":1, \"i\":2, \"e\":2, \"n\":2, \"v\":1, \"d\":1, \"o\":1}**\n",
        "    "
      ]
    },
    {
      "cell_type": "code",
      "metadata": {
        "id": "eG8vX5NiVLyN",
        "colab_type": "code",
        "colab": {
          "base_uri": "https://localhost:8080/",
          "height": 51
        },
        "outputId": "99c3f9c9-d62c-4fe8-e064-1e16ccc9e411"
      },
      "source": [
        "a =str(input(\"Ingrese la palabra: \"))\n",
        "diccionario={}\n",
        "for letra in a:\n",
        "    if letra in diccionario:\n",
        "        diccionario[letra]=diccionario[letra]+1\n",
        "    else:\n",
        "        diccionario[letra]=1\n",
        "print(diccionario)\n"
      ],
      "execution_count": 26,
      "outputs": [
        {
          "output_type": "stream",
          "text": [
            "Ingrese la palabra: apruebeme\n",
            "{'a': 1, 'p': 1, 'r': 1, 'u': 1, 'e': 3, 'b': 1, 'm': 1}\n"
          ],
          "name": "stdout"
        }
      ]
    },
    {
      "cell_type": "markdown",
      "metadata": {
        "id": "TlOFiJM2CJF9",
        "colab_type": "text"
      },
      "source": [
        "3. Crear una función para calcular el área de una sección circular.\n",
        "\n",
        "![](http://www.disfrutalasmatematicas.com/geometria/images/circle-arc-length.gif)"
      ]
    },
    {
      "cell_type": "code",
      "metadata": {
        "id": "oUa8r-2qY2-7",
        "colab_type": "code",
        "colab": {
          "base_uri": "https://localhost:8080/",
          "height": 34
        },
        "outputId": "60dc6733-2f06-4f95-f557-6dcb75e413d6"
      },
      "source": [
        "import math\n",
        "def area_sec_cir(o,r):\n",
        "  area=math.pi*r**2*o/360\n",
        "  return print('El area del triángulo es: ', area)\n",
        "area_sec_cir(100,3)"
      ],
      "execution_count": 33,
      "outputs": [
        {
          "output_type": "stream",
          "text": [
            "El area del triángulo es:  7.853981633974483\n"
          ],
          "name": "stdout"
        }
      ]
    },
    {
      "cell_type": "markdown",
      "metadata": {
        "id": "kjCoXuAdWhyO",
        "colab_type": "text"
      },
      "source": [
        "4. Crear una lista con los nombres de todas las ciudades del archivo [sudamerica.json](https://github.com/ryali93/UNMSM_programacion/blob/master/data/sudamerica.json)\n",
        "\n",
        "    Ayuda: *descargar el archivo JSON con la opción Raw*"
      ]
    },
    {
      "cell_type": "markdown",
      "metadata": {
        "id": "1G5Rp42x3KHa",
        "colab_type": "text"
      },
      "source": [
        "## Nivel 4 (4 pt):"
      ]
    },
    {
      "cell_type": "markdown",
      "metadata": {
        "id": "KGJx9ZQRDwba",
        "colab_type": "text"
      },
      "source": [
        "1. Un ingeniero está realizando el diseño de un canal de regadío para un pequeño pueblo, cree una función para que, dependiendo del tipo de sección que usará, pueda saber el área, perímetro mojado, radio hidráulico y espejo de agua de su sección. (Elegir 2 tipos de sección)\n",
        "\n",
        "![](https://upload.wikimedia.org/wikipedia/commons/5/59/Radio_Hidr%C3%A1ulico_geometria_fundamental.gif)"
      ]
    },
    {
      "cell_type": "code",
      "metadata": {
        "id": "zSvtFz7PgAq-",
        "colab_type": "code",
        "colab": {}
      },
      "source": [
        "def diseño(a,b,y,z):\n",
        "  a= str(input(\"Ingrese la tipo de seccion (Rectangular o Triangular ) : \"))\n",
        "  if a==\"Rectangular\":\n",
        "    b=float(input(\"Ingrese parámetro b :\"))\n",
        "    y=float(input(\"Ingrese parámetro y :\"))\n",
        "    A=b*y\n",
        "    P=b+2*y\n",
        "    RH=A/P\n",
        "    T=b\n",
        "  else: \n",
        "    z=float(input(\"Ingrese parámetro z :\"))\n",
        "    y=float(input(\"Ingrese parámetro y :\"))\n",
        "    A=z*y**2\n",
        "    P=2*y*(1+z**2)**0.5\n",
        "    RH=A/P \n",
        "    T=2*z*y"
      ],
      "execution_count": 0,
      "outputs": []
    },
    {
      "cell_type": "markdown",
      "metadata": {
        "id": "wPPUwC7I3Ohq",
        "colab_type": "text"
      },
      "source": [
        "2. Teniendo las listas:\n",
        "\n",
        "    x = [8, 2, 11, 6, 5, 4, 12, 9, 6, 1]\n",
        "    \n",
        "    y = [3, 10, 3, 6, 8, 12, 1, 4, 9, 14]\n",
        "    \n",
        "    Calcule la pendiente de la recta\n",
        "\n",
        "    $$ m = \\frac {\\sum{xy} - \\frac{(\\sum{x}) (\\sum{y})}n} {\\sum{x}^2 - {\\frac {(\\sum{x})^2}n}} $$\n",
        "\n",
        "    Calcule la intercepción en **y** de la forma\n",
        "\n",
        "    $$ b = \\bar{y} - m\\bar{x} $$\n",
        "\n",
        "    Use la pendiente y la intercepción en y para formar la ecuación de la recta."
      ]
    },
    {
      "cell_type": "code",
      "metadata": {
        "id": "t81hg5JRdMba",
        "colab_type": "code",
        "colab": {
          "base_uri": "https://localhost:8080/",
          "height": 231
        },
        "outputId": "21859735-64f5-43dc-a5a8-8bfbb572ad0b"
      },
      "source": [
        "x = [8, 2, 11, 6, 5, 4, 12, 9, 6, 1]\n",
        "y = [3, 10, 3, 6, 8, 12, 1, 4, 9, 14]\n",
        "sx= sum (x)\n",
        "sy= sum (y)\n",
        "for i in x:\n",
        "  s2=sum (i**2)\n",
        "  \n",
        "\n"
      ],
      "execution_count": 40,
      "outputs": [
        {
          "output_type": "error",
          "ename": "TypeError",
          "evalue": "ignored",
          "traceback": [
            "\u001b[0;31m---------------------------------------------------------------------------\u001b[0m",
            "\u001b[0;31mTypeError\u001b[0m                                 Traceback (most recent call last)",
            "\u001b[0;32m<ipython-input-40-de18c4d86428>\u001b[0m in \u001b[0;36m<module>\u001b[0;34m()\u001b[0m\n\u001b[1;32m      4\u001b[0m \u001b[0msy\u001b[0m\u001b[0;34m=\u001b[0m \u001b[0msum\u001b[0m \u001b[0;34m(\u001b[0m\u001b[0my\u001b[0m\u001b[0;34m)\u001b[0m\u001b[0;34m\u001b[0m\u001b[0;34m\u001b[0m\u001b[0m\n\u001b[1;32m      5\u001b[0m \u001b[0;32mfor\u001b[0m \u001b[0mi\u001b[0m \u001b[0;32min\u001b[0m \u001b[0mx\u001b[0m\u001b[0;34m:\u001b[0m\u001b[0;34m\u001b[0m\u001b[0;34m\u001b[0m\u001b[0m\n\u001b[0;32m----> 6\u001b[0;31m   \u001b[0ms2\u001b[0m\u001b[0;34m=\u001b[0m\u001b[0msum\u001b[0m \u001b[0;34m(\u001b[0m\u001b[0mi\u001b[0m\u001b[0;34m**\u001b[0m\u001b[0;36m2\u001b[0m\u001b[0;34m)\u001b[0m\u001b[0;34m\u001b[0m\u001b[0;34m\u001b[0m\u001b[0m\n\u001b[0m\u001b[1;32m      7\u001b[0m \u001b[0;34m\u001b[0m\u001b[0m\n\u001b[1;32m      8\u001b[0m \u001b[0;34m\u001b[0m\u001b[0m\n",
            "\u001b[0;31mTypeError\u001b[0m: 'int' object is not iterable"
          ]
        }
      ]
    }
  ]
}